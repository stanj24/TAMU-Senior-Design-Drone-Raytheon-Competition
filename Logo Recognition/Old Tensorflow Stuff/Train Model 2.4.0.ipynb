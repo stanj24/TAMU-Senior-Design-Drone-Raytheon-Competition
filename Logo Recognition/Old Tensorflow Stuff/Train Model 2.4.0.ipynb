{
 "cells": [
  {
   "cell_type": "code",
   "execution_count": 1,
   "metadata": {},
   "outputs": [
    {
     "name": "stdout",
     "output_type": "stream",
     "text": [
      "2.4.0\n"
     ]
    }
   ],
   "source": [
    "from tensorflow.keras.preprocessing.image import ImageDataGenerator\n",
    "from tensorflow.keras.preprocessing import image\n",
    "from tensorflow.keras import layers\n",
    "from tensorflow.keras import utils\n",
    "from tensorflow.keras.models import Sequential\n",
    "from tensorflow.keras.layers import Dense, Dropout, Activation, Flatten, Conv2D, MaxPooling2D\n",
    "from tensorflow import keras\n",
    "import tensorflow as tf\n",
    "import numpy as np\n",
    "import matplotlib.pyplot as plt\n",
    "import os\n",
    "import cv2\n",
    "\n",
    "print(tf.__version__)"
   ]
  },
  {
   "cell_type": "code",
   "execution_count": 2,
   "metadata": {},
   "outputs": [
    {
     "name": "stdout",
     "output_type": "stream",
     "text": [
      "Found 1670 files belonging to 2 classes.\n",
      "Using 1503 files for training.\n",
      "Found 1670 files belonging to 2 classes.\n",
      "Using 167 files for validation.\n"
     ]
    }
   ],
   "source": [
    "ds_train = tf.keras.preprocessing.image_dataset_from_directory(\n",
    "    'TAMU_model_pics',\n",
    "    labels='inferred',\n",
    "    label_mode = \"categorical\",\n",
    "    color_mode='rgb',\n",
    "    batch_size=32,\n",
    "    image_size=(200,200),\n",
    "    shuffle=True,\n",
    "    seed=128,\n",
    "    validation_split=0.1,\n",
    "    subset=\"training\"\n",
    ")\n",
    "\n",
    "ds_validation = tf.keras.preprocessing.image_dataset_from_directory(\n",
    "    'TAMU_model_pics',\n",
    "    labels='inferred',\n",
    "    label_mode = \"categorical\",\n",
    "    color_mode='rgb',\n",
    "    batch_size=1,\n",
    "    image_size=(200,200),\n",
    "    shuffle=True,\n",
    "    seed=128,\n",
    "    validation_split=0.1,\n",
    "    subset=\"validation\"\n",
    ")"
   ]
  },
  {
   "cell_type": "code",
   "execution_count": 3,
   "metadata": {},
   "outputs": [],
   "source": [
    "model = Sequential()\n",
    "\n",
    "model.add(Conv2D(32, (3,3), strides = (2,2)))\n",
    "model.add(Activation(\"relu\"))\n",
    "model.add(MaxPooling2D(pool_size=(3,3)))\n",
    "\n",
    "model.add(Conv2D(64, (3,3), strides = (2,2)))\n",
    "model.add(Activation(\"relu\"))\n",
    "model.add(MaxPooling2D(pool_size=(3,3)))\n",
    "\n",
    "model.add(Flatten()) # Dense only accepts 1D, so flatten\n",
    "model.add(Dense(64))\n",
    "model.add(Activation(\"relu\"))\n",
    "\n",
    "\n",
    "model.add(Dense(2))\n",
    "model.add(Activation('sigmoid'))"
   ]
  },
  {
   "cell_type": "code",
   "execution_count": 4,
   "metadata": {},
   "outputs": [
    {
     "name": "stdout",
     "output_type": "stream",
     "text": [
      "Epoch 1/10\n",
      "47/47 [==============================] - 53s 944ms/step - loss: 9.4800 - accuracy: 0.5706\n",
      "Epoch 2/10\n",
      "47/47 [==============================] - 47s 854ms/step - loss: 0.5468 - accuracy: 0.7795\n",
      "Epoch 3/10\n",
      "47/47 [==============================] - 45s 819ms/step - loss: 0.3395 - accuracy: 0.8776\n",
      "Epoch 4/10\n",
      "47/47 [==============================] - 46s 845ms/step - loss: 0.2105 - accuracy: 0.9241\n",
      "Epoch 5/10\n",
      "47/47 [==============================] - 47s 866ms/step - loss: 0.1615 - accuracy: 0.9350\n",
      "Epoch 6/10\n",
      "47/47 [==============================] - 46s 837ms/step - loss: 0.1301 - accuracy: 0.9585\n",
      "Epoch 7/10\n",
      "47/47 [==============================] - 45s 814ms/step - loss: 0.0799 - accuracy: 0.9761\n",
      "Epoch 8/10\n",
      "47/47 [==============================] - 51s 908ms/step - loss: 0.0542 - accuracy: 0.9860\n",
      "Epoch 9/10\n",
      "47/47 [==============================] - 49s 876ms/step - loss: 0.0382 - accuracy: 0.9938\n",
      "Epoch 10/10\n",
      "47/47 [==============================] - 49s 884ms/step - loss: 0.0313 - accuracy: 0.9962\n"
     ]
    },
    {
     "data": {
      "text/plain": [
       "<tensorflow.python.keras.callbacks.History at 0x2436d52beb8>"
      ]
     },
     "execution_count": 4,
     "metadata": {},
     "output_type": "execute_result"
    }
   ],
   "source": [
    "model.compile(optimizer=\"adam\", loss=\"binary_crossentropy\", metrics=['accuracy'])\n",
    "model.fit(ds_train, epochs=10, verbose=1)"
   ]
  },
  {
   "cell_type": "code",
   "execution_count": 5,
   "metadata": {},
   "outputs": [
    {
     "name": "stdout",
     "output_type": "stream",
     "text": [
      "167/167 [==============================] - 7s 38ms/step - loss: 0.4615 - accuracy: 0.9341\n"
     ]
    }
   ],
   "source": [
    "results = model.evaluate(ds_validation, batch_size=1)"
   ]
  },
  {
   "cell_type": "code",
   "execution_count": 6,
   "metadata": {},
   "outputs": [
    {
     "name": "stdout",
     "output_type": "stream",
     "text": [
      "INFO:tensorflow:Assets written to: tamu_model_v5\\assets\n"
     ]
    }
   ],
   "source": [
    "model.save(\"tamu_model_v5\")"
   ]
  },
  {
   "cell_type": "code",
   "execution_count": null,
   "metadata": {},
   "outputs": [],
   "source": []
  }
 ],
 "metadata": {
  "kernelspec": {
   "display_name": "Python 3",
   "language": "python",
   "name": "python3"
  },
  "language_info": {
   "codemirror_mode": {
    "name": "ipython",
    "version": 3
   },
   "file_extension": ".py",
   "mimetype": "text/x-python",
   "name": "python",
   "nbconvert_exporter": "python",
   "pygments_lexer": "ipython3",
   "version": "3.7.3"
  }
 },
 "nbformat": 4,
 "nbformat_minor": 2
}
